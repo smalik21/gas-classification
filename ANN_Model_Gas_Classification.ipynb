{
  "cells": [
    {
      "cell_type": "markdown",
      "id": "0536ab26",
      "metadata": {
        "id": "0536ab26"
      },
      "source": [
        "# ANN MODEL FOR GAS CLASSIFICATION"
      ]
    },
    {
      "cell_type": "markdown",
      "id": "596dff10",
      "metadata": {
        "id": "596dff10"
      },
      "source": [
        "# Import Required Libraries\n"
      ]
    },
    {
      "cell_type": "code",
      "execution_count": null,
      "id": "0bb99a3e",
      "metadata": {
        "id": "0bb99a3e"
      },
      "outputs": [],
      "source": [
        "import numpy as np\n",
        "import pandas as pd\n",
        "import matplotlib.pyplot as plt\n",
        "import seaborn as sns"
      ]
    },
    {
      "cell_type": "markdown",
      "id": "6f993b22",
      "metadata": {
        "id": "6f993b22"
      },
      "source": [
        "## Read Data File\n"
      ]
    },
    {
      "cell_type": "code",
      "execution_count": null,
      "id": "5ff0945a",
      "metadata": {
        "id": "5ff0945a"
      },
      "outputs": [],
      "source": [
        "df = pd.read_csv(\"gas-drift_csv.csv\")"
      ]
    },
    {
      "cell_type": "code",
      "execution_count": null,
      "id": "50ec32c9",
      "metadata": {
        "id": "50ec32c9",
        "outputId": "11624972-bc86-45d2-db18-c8fba6220c62"
      },
      "outputs": [
        {
          "data": {
            "text/html": [
              "<div>\n",
              "<style scoped>\n",
              "    .dataframe tbody tr th:only-of-type {\n",
              "        vertical-align: middle;\n",
              "    }\n",
              "\n",
              "    .dataframe tbody tr th {\n",
              "        vertical-align: top;\n",
              "    }\n",
              "\n",
              "    .dataframe thead th {\n",
              "        text-align: right;\n",
              "    }\n",
              "</style>\n",
              "<table border=\"1\" class=\"dataframe\">\n",
              "  <thead>\n",
              "    <tr style=\"text-align: right;\">\n",
              "      <th></th>\n",
              "      <th>V1</th>\n",
              "      <th>V2</th>\n",
              "      <th>V3</th>\n",
              "      <th>V4</th>\n",
              "      <th>V5</th>\n",
              "      <th>V6</th>\n",
              "      <th>V7</th>\n",
              "      <th>V8</th>\n",
              "      <th>V9</th>\n",
              "      <th>V10</th>\n",
              "      <th>...</th>\n",
              "      <th>V120</th>\n",
              "      <th>V121</th>\n",
              "      <th>V122</th>\n",
              "      <th>V123</th>\n",
              "      <th>V124</th>\n",
              "      <th>V125</th>\n",
              "      <th>V126</th>\n",
              "      <th>V127</th>\n",
              "      <th>V128</th>\n",
              "      <th>Class</th>\n",
              "    </tr>\n",
              "  </thead>\n",
              "  <tbody>\n",
              "    <tr>\n",
              "      <th>0</th>\n",
              "      <td>12285.6582</td>\n",
              "      <td>4.076635</td>\n",
              "      <td>4.842317</td>\n",
              "      <td>7.509393</td>\n",
              "      <td>10.822436</td>\n",
              "      <td>-1.312657</td>\n",
              "      <td>-1.853717</td>\n",
              "      <td>-6.924985</td>\n",
              "      <td>11800.9233</td>\n",
              "      <td>4.483500</td>\n",
              "      <td>...</td>\n",
              "      <td>-3.440387</td>\n",
              "      <td>1784.5324</td>\n",
              "      <td>1.907000</td>\n",
              "      <td>1.729200</td>\n",
              "      <td>4.881194</td>\n",
              "      <td>8.623828</td>\n",
              "      <td>-0.314110</td>\n",
              "      <td>-0.661556</td>\n",
              "      <td>-3.521663</td>\n",
              "      <td>4</td>\n",
              "    </tr>\n",
              "    <tr>\n",
              "      <th>1</th>\n",
              "      <td>-35.6889</td>\n",
              "      <td>0.993944</td>\n",
              "      <td>0.166099</td>\n",
              "      <td>0.489363</td>\n",
              "      <td>3.484663</td>\n",
              "      <td>-0.130298</td>\n",
              "      <td>-0.528364</td>\n",
              "      <td>-3.735347</td>\n",
              "      <td>266.4145</td>\n",
              "      <td>1.053988</td>\n",
              "      <td>...</td>\n",
              "      <td>-4.482534</td>\n",
              "      <td>904.9898</td>\n",
              "      <td>1.433707</td>\n",
              "      <td>1.068069</td>\n",
              "      <td>2.532958</td>\n",
              "      <td>5.369720</td>\n",
              "      <td>-0.183779</td>\n",
              "      <td>-0.534087</td>\n",
              "      <td>-4.635975</td>\n",
              "      <td>3</td>\n",
              "    </tr>\n",
              "    <tr>\n",
              "      <th>2</th>\n",
              "      <td>63927.2217</td>\n",
              "      <td>14.956941</td>\n",
              "      <td>19.971376</td>\n",
              "      <td>29.188512</td>\n",
              "      <td>33.291320</td>\n",
              "      <td>-10.433776</td>\n",
              "      <td>-16.062245</td>\n",
              "      <td>-49.490143</td>\n",
              "      <td>57405.8483</td>\n",
              "      <td>15.613843</td>\n",
              "      <td>...</td>\n",
              "      <td>-25.150090</td>\n",
              "      <td>14585.7879</td>\n",
              "      <td>8.189021</td>\n",
              "      <td>6.099452</td>\n",
              "      <td>12.127991</td>\n",
              "      <td>15.709651</td>\n",
              "      <td>-3.887082</td>\n",
              "      <td>-6.731473</td>\n",
              "      <td>-19.326895</td>\n",
              "      <td>4</td>\n",
              "    </tr>\n",
              "    <tr>\n",
              "      <th>3</th>\n",
              "      <td>2992.9019</td>\n",
              "      <td>1.380553</td>\n",
              "      <td>0.808910</td>\n",
              "      <td>1.288259</td>\n",
              "      <td>4.660135</td>\n",
              "      <td>-0.755903</td>\n",
              "      <td>-1.120470</td>\n",
              "      <td>-4.075213</td>\n",
              "      <td>4301.4033</td>\n",
              "      <td>1.652701</td>\n",
              "      <td>...</td>\n",
              "      <td>-7.215792</td>\n",
              "      <td>6044.5554</td>\n",
              "      <td>3.488295</td>\n",
              "      <td>2.662288</td>\n",
              "      <td>5.938297</td>\n",
              "      <td>8.544508</td>\n",
              "      <td>-1.567322</td>\n",
              "      <td>-2.701235</td>\n",
              "      <td>-6.472439</td>\n",
              "      <td>3</td>\n",
              "    </tr>\n",
              "    <tr>\n",
              "      <th>4</th>\n",
              "      <td>57524.7812</td>\n",
              "      <td>11.912566</td>\n",
              "      <td>14.631496</td>\n",
              "      <td>19.809240</td>\n",
              "      <td>23.715868</td>\n",
              "      <td>-9.084750</td>\n",
              "      <td>-11.770585</td>\n",
              "      <td>-39.234003</td>\n",
              "      <td>50051.0703</td>\n",
              "      <td>11.732548</td>\n",
              "      <td>...</td>\n",
              "      <td>-10.248794</td>\n",
              "      <td>10580.1006</td>\n",
              "      <td>5.752675</td>\n",
              "      <td>3.880740</td>\n",
              "      <td>8.545897</td>\n",
              "      <td>11.831716</td>\n",
              "      <td>-2.655521</td>\n",
              "      <td>-4.312744</td>\n",
              "      <td>-8.510591</td>\n",
              "      <td>4</td>\n",
              "    </tr>\n",
              "  </tbody>\n",
              "</table>\n",
              "<p>5 rows × 129 columns</p>\n",
              "</div>"
            ],
            "text/plain": [
              "           V1         V2         V3         V4         V5         V6  \\\n",
              "0  12285.6582   4.076635   4.842317   7.509393  10.822436  -1.312657   \n",
              "1    -35.6889   0.993944   0.166099   0.489363   3.484663  -0.130298   \n",
              "2  63927.2217  14.956941  19.971376  29.188512  33.291320 -10.433776   \n",
              "3   2992.9019   1.380553   0.808910   1.288259   4.660135  -0.755903   \n",
              "4  57524.7812  11.912566  14.631496  19.809240  23.715868  -9.084750   \n",
              "\n",
              "          V7         V8          V9        V10  ...       V120        V121  \\\n",
              "0  -1.853717  -6.924985  11800.9233   4.483500  ...  -3.440387   1784.5324   \n",
              "1  -0.528364  -3.735347    266.4145   1.053988  ...  -4.482534    904.9898   \n",
              "2 -16.062245 -49.490143  57405.8483  15.613843  ... -25.150090  14585.7879   \n",
              "3  -1.120470  -4.075213   4301.4033   1.652701  ...  -7.215792   6044.5554   \n",
              "4 -11.770585 -39.234003  50051.0703  11.732548  ... -10.248794  10580.1006   \n",
              "\n",
              "       V122      V123       V124       V125      V126      V127       V128  \\\n",
              "0  1.907000  1.729200   4.881194   8.623828 -0.314110 -0.661556  -3.521663   \n",
              "1  1.433707  1.068069   2.532958   5.369720 -0.183779 -0.534087  -4.635975   \n",
              "2  8.189021  6.099452  12.127991  15.709651 -3.887082 -6.731473 -19.326895   \n",
              "3  3.488295  2.662288   5.938297   8.544508 -1.567322 -2.701235  -6.472439   \n",
              "4  5.752675  3.880740   8.545897  11.831716 -2.655521 -4.312744  -8.510591   \n",
              "\n",
              "   Class  \n",
              "0      4  \n",
              "1      3  \n",
              "2      4  \n",
              "3      3  \n",
              "4      4  \n",
              "\n",
              "[5 rows x 129 columns]"
            ]
          },
          "execution_count": 342,
          "metadata": {},
          "output_type": "execute_result"
        }
      ],
      "source": [
        "df.head()"
      ]
    },
    {
      "cell_type": "code",
      "execution_count": null,
      "id": "a72db685",
      "metadata": {
        "scrolled": true,
        "id": "a72db685",
        "outputId": "41b0b733-efee-4643-e031-7e28771861d0"
      },
      "outputs": [
        {
          "data": {
            "text/html": [
              "<div>\n",
              "<style scoped>\n",
              "    .dataframe tbody tr th:only-of-type {\n",
              "        vertical-align: middle;\n",
              "    }\n",
              "\n",
              "    .dataframe tbody tr th {\n",
              "        vertical-align: top;\n",
              "    }\n",
              "\n",
              "    .dataframe thead th {\n",
              "        text-align: right;\n",
              "    }\n",
              "</style>\n",
              "<table border=\"1\" class=\"dataframe\">\n",
              "  <thead>\n",
              "    <tr style=\"text-align: right;\">\n",
              "      <th></th>\n",
              "      <th>V1</th>\n",
              "      <th>V2</th>\n",
              "      <th>V3</th>\n",
              "      <th>V4</th>\n",
              "      <th>V5</th>\n",
              "      <th>V6</th>\n",
              "      <th>V7</th>\n",
              "      <th>V8</th>\n",
              "      <th>V9</th>\n",
              "      <th>V10</th>\n",
              "      <th>...</th>\n",
              "      <th>V120</th>\n",
              "      <th>V121</th>\n",
              "      <th>V122</th>\n",
              "      <th>V123</th>\n",
              "      <th>V124</th>\n",
              "      <th>V125</th>\n",
              "      <th>V126</th>\n",
              "      <th>V127</th>\n",
              "      <th>V128</th>\n",
              "      <th>Class</th>\n",
              "    </tr>\n",
              "  </thead>\n",
              "  <tbody>\n",
              "    <tr>\n",
              "      <th>count</th>\n",
              "      <td>13910.000000</td>\n",
              "      <td>13910.000000</td>\n",
              "      <td>13910.000000</td>\n",
              "      <td>13910.000000</td>\n",
              "      <td>13910.000000</td>\n",
              "      <td>13910.000000</td>\n",
              "      <td>13910.000000</td>\n",
              "      <td>13910.000000</td>\n",
              "      <td>13910.000000</td>\n",
              "      <td>13910.000000</td>\n",
              "      <td>...</td>\n",
              "      <td>13910.000000</td>\n",
              "      <td>13910.000000</td>\n",
              "      <td>13910.000000</td>\n",
              "      <td>13910.000000</td>\n",
              "      <td>13910.000000</td>\n",
              "      <td>13910.000000</td>\n",
              "      <td>13910.000000</td>\n",
              "      <td>13910.000000</td>\n",
              "      <td>13910.000000</td>\n",
              "      <td>13910.000000</td>\n",
              "    </tr>\n",
              "    <tr>\n",
              "      <th>mean</th>\n",
              "      <td>50435.066174</td>\n",
              "      <td>6.638156</td>\n",
              "      <td>12.936688</td>\n",
              "      <td>18.743953</td>\n",
              "      <td>26.890695</td>\n",
              "      <td>-9.158655</td>\n",
              "      <td>-14.402383</td>\n",
              "      <td>-59.927598</td>\n",
              "      <td>57340.104585</td>\n",
              "      <td>6.648033</td>\n",
              "      <td>...</td>\n",
              "      <td>-19.136500</td>\n",
              "      <td>19688.565373</td>\n",
              "      <td>6.072066</td>\n",
              "      <td>7.138634</td>\n",
              "      <td>14.929364</td>\n",
              "      <td>19.090980</td>\n",
              "      <td>-4.901016</td>\n",
              "      <td>-8.167792</td>\n",
              "      <td>-16.089791</td>\n",
              "      <td>3.387994</td>\n",
              "    </tr>\n",
              "    <tr>\n",
              "      <th>std</th>\n",
              "      <td>69844.785952</td>\n",
              "      <td>13.486391</td>\n",
              "      <td>17.610061</td>\n",
              "      <td>24.899450</td>\n",
              "      <td>38.107685</td>\n",
              "      <td>12.729206</td>\n",
              "      <td>21.304606</td>\n",
              "      <td>131.017675</td>\n",
              "      <td>64045.265134</td>\n",
              "      <td>15.585780</td>\n",
              "      <td>...</td>\n",
              "      <td>26.516679</td>\n",
              "      <td>14281.652395</td>\n",
              "      <td>4.642192</td>\n",
              "      <td>5.248573</td>\n",
              "      <td>12.437311</td>\n",
              "      <td>14.391810</td>\n",
              "      <td>4.195360</td>\n",
              "      <td>7.637701</td>\n",
              "      <td>20.958479</td>\n",
              "      <td>1.728602</td>\n",
              "    </tr>\n",
              "    <tr>\n",
              "      <th>min</th>\n",
              "      <td>-16757.598600</td>\n",
              "      <td>0.088287</td>\n",
              "      <td>0.000100</td>\n",
              "      <td>0.000100</td>\n",
              "      <td>0.000100</td>\n",
              "      <td>-131.332873</td>\n",
              "      <td>-227.627758</td>\n",
              "      <td>-1664.735576</td>\n",
              "      <td>-16119.460900</td>\n",
              "      <td>0.185164</td>\n",
              "      <td>...</td>\n",
              "      <td>-482.278033</td>\n",
              "      <td>-8297.548800</td>\n",
              "      <td>0.712112</td>\n",
              "      <td>0.003238</td>\n",
              "      <td>0.011488</td>\n",
              "      <td>0.118849</td>\n",
              "      <td>-30.205911</td>\n",
              "      <td>-58.844076</td>\n",
              "      <td>-410.152297</td>\n",
              "      <td>1.000000</td>\n",
              "    </tr>\n",
              "    <tr>\n",
              "      <th>25%</th>\n",
              "      <td>6694.725950</td>\n",
              "      <td>2.284843</td>\n",
              "      <td>1.633350</td>\n",
              "      <td>2.386836</td>\n",
              "      <td>4.967988</td>\n",
              "      <td>-11.587169</td>\n",
              "      <td>-17.292559</td>\n",
              "      <td>-48.492764</td>\n",
              "      <td>13287.301875</td>\n",
              "      <td>2.776693</td>\n",
              "      <td>...</td>\n",
              "      <td>-22.363498</td>\n",
              "      <td>8837.838750</td>\n",
              "      <td>3.007381</td>\n",
              "      <td>3.059178</td>\n",
              "      <td>5.407551</td>\n",
              "      <td>8.039227</td>\n",
              "      <td>-6.789599</td>\n",
              "      <td>-11.162406</td>\n",
              "      <td>-18.938690</td>\n",
              "      <td>2.000000</td>\n",
              "    </tr>\n",
              "    <tr>\n",
              "      <th>50%</th>\n",
              "      <td>19364.439350</td>\n",
              "      <td>3.871227</td>\n",
              "      <td>4.977123</td>\n",
              "      <td>7.250892</td>\n",
              "      <td>11.680725</td>\n",
              "      <td>-3.338700</td>\n",
              "      <td>-4.956917</td>\n",
              "      <td>-14.040088</td>\n",
              "      <td>37764.263200</td>\n",
              "      <td>4.734586</td>\n",
              "      <td>...</td>\n",
              "      <td>-13.527887</td>\n",
              "      <td>16313.967300</td>\n",
              "      <td>4.973783</td>\n",
              "      <td>5.809107</td>\n",
              "      <td>11.325214</td>\n",
              "      <td>14.560676</td>\n",
              "      <td>-3.881763</td>\n",
              "      <td>-6.305962</td>\n",
              "      <td>-11.747499</td>\n",
              "      <td>3.000000</td>\n",
              "    </tr>\n",
              "    <tr>\n",
              "      <th>75%</th>\n",
              "      <td>63104.837125</td>\n",
              "      <td>8.400619</td>\n",
              "      <td>17.189166</td>\n",
              "      <td>26.411109</td>\n",
              "      <td>34.843226</td>\n",
              "      <td>-1.126897</td>\n",
              "      <td>-1.670327</td>\n",
              "      <td>-5.212213</td>\n",
              "      <td>70300.782575</td>\n",
              "      <td>8.608522</td>\n",
              "      <td>...</td>\n",
              "      <td>-7.358031</td>\n",
              "      <td>27009.592425</td>\n",
              "      <td>7.389566</td>\n",
              "      <td>10.222169</td>\n",
              "      <td>21.207572</td>\n",
              "      <td>26.547437</td>\n",
              "      <td>-1.804032</td>\n",
              "      <td>-2.874532</td>\n",
              "      <td>-6.429690</td>\n",
              "      <td>5.000000</td>\n",
              "    </tr>\n",
              "    <tr>\n",
              "      <th>max</th>\n",
              "      <td>670687.347700</td>\n",
              "      <td>1339.879283</td>\n",
              "      <td>167.079751</td>\n",
              "      <td>226.619457</td>\n",
              "      <td>993.605306</td>\n",
              "      <td>-0.006941</td>\n",
              "      <td>22.201589</td>\n",
              "      <td>115.273147</td>\n",
              "      <td>502202.812500</td>\n",
              "      <td>1672.363221</td>\n",
              "      <td>...</td>\n",
              "      <td>11.516418</td>\n",
              "      <td>96706.792700</td>\n",
              "      <td>45.574835</td>\n",
              "      <td>32.203601</td>\n",
              "      <td>297.225880</td>\n",
              "      <td>195.242555</td>\n",
              "      <td>-0.003817</td>\n",
              "      <td>6.851792</td>\n",
              "      <td>8.357968</td>\n",
              "      <td>6.000000</td>\n",
              "    </tr>\n",
              "  </tbody>\n",
              "</table>\n",
              "<p>8 rows × 129 columns</p>\n",
              "</div>"
            ],
            "text/plain": [
              "                  V1            V2            V3            V4            V5  \\\n",
              "count   13910.000000  13910.000000  13910.000000  13910.000000  13910.000000   \n",
              "mean    50435.066174      6.638156     12.936688     18.743953     26.890695   \n",
              "std     69844.785952     13.486391     17.610061     24.899450     38.107685   \n",
              "min    -16757.598600      0.088287      0.000100      0.000100      0.000100   \n",
              "25%      6694.725950      2.284843      1.633350      2.386836      4.967988   \n",
              "50%     19364.439350      3.871227      4.977123      7.250892     11.680725   \n",
              "75%     63104.837125      8.400619     17.189166     26.411109     34.843226   \n",
              "max    670687.347700   1339.879283    167.079751    226.619457    993.605306   \n",
              "\n",
              "                 V6            V7            V8             V9           V10  \\\n",
              "count  13910.000000  13910.000000  13910.000000   13910.000000  13910.000000   \n",
              "mean      -9.158655    -14.402383    -59.927598   57340.104585      6.648033   \n",
              "std       12.729206     21.304606    131.017675   64045.265134     15.585780   \n",
              "min     -131.332873   -227.627758  -1664.735576  -16119.460900      0.185164   \n",
              "25%      -11.587169    -17.292559    -48.492764   13287.301875      2.776693   \n",
              "50%       -3.338700     -4.956917    -14.040088   37764.263200      4.734586   \n",
              "75%       -1.126897     -1.670327     -5.212213   70300.782575      8.608522   \n",
              "max       -0.006941     22.201589    115.273147  502202.812500   1672.363221   \n",
              "\n",
              "       ...          V120          V121          V122          V123  \\\n",
              "count  ...  13910.000000  13910.000000  13910.000000  13910.000000   \n",
              "mean   ...    -19.136500  19688.565373      6.072066      7.138634   \n",
              "std    ...     26.516679  14281.652395      4.642192      5.248573   \n",
              "min    ...   -482.278033  -8297.548800      0.712112      0.003238   \n",
              "25%    ...    -22.363498   8837.838750      3.007381      3.059178   \n",
              "50%    ...    -13.527887  16313.967300      4.973783      5.809107   \n",
              "75%    ...     -7.358031  27009.592425      7.389566     10.222169   \n",
              "max    ...     11.516418  96706.792700     45.574835     32.203601   \n",
              "\n",
              "               V124          V125          V126          V127          V128  \\\n",
              "count  13910.000000  13910.000000  13910.000000  13910.000000  13910.000000   \n",
              "mean      14.929364     19.090980     -4.901016     -8.167792    -16.089791   \n",
              "std       12.437311     14.391810      4.195360      7.637701     20.958479   \n",
              "min        0.011488      0.118849    -30.205911    -58.844076   -410.152297   \n",
              "25%        5.407551      8.039227     -6.789599    -11.162406    -18.938690   \n",
              "50%       11.325214     14.560676     -3.881763     -6.305962    -11.747499   \n",
              "75%       21.207572     26.547437     -1.804032     -2.874532     -6.429690   \n",
              "max      297.225880    195.242555     -0.003817      6.851792      8.357968   \n",
              "\n",
              "              Class  \n",
              "count  13910.000000  \n",
              "mean       3.387994  \n",
              "std        1.728602  \n",
              "min        1.000000  \n",
              "25%        2.000000  \n",
              "50%        3.000000  \n",
              "75%        5.000000  \n",
              "max        6.000000  \n",
              "\n",
              "[8 rows x 129 columns]"
            ]
          },
          "execution_count": 343,
          "metadata": {},
          "output_type": "execute_result"
        }
      ],
      "source": [
        "df.describe()"
      ]
    },
    {
      "cell_type": "code",
      "execution_count": null,
      "id": "dbd9ef96",
      "metadata": {
        "id": "dbd9ef96",
        "outputId": "28d090e5-0e2c-457e-d3ca-3c5287f981e1"
      },
      "outputs": [
        {
          "data": {
            "text/plain": [
              "array([4, 3, 6, 2, 1, 5], dtype=int64)"
            ]
          },
          "execution_count": 344,
          "metadata": {},
          "output_type": "execute_result"
        }
      ],
      "source": [
        "df[\"Class\"].unique()"
      ]
    },
    {
      "cell_type": "code",
      "execution_count": null,
      "id": "58af9e2c",
      "metadata": {
        "id": "58af9e2c"
      },
      "outputs": [],
      "source": [
        "# 1: Ethanol\n",
        "# 2: Ethylene\n",
        "# 3: Ammonia\n",
        "# 4: Acetaldehyde\n",
        "# 5: Acetone\n",
        "# 6: Toluene"
      ]
    },
    {
      "cell_type": "code",
      "execution_count": null,
      "id": "dbe6a610",
      "metadata": {
        "id": "dbe6a610"
      },
      "outputs": [],
      "source": [
        "drop_index = df[df[\"Class\"] == 3].index"
      ]
    },
    {
      "cell_type": "code",
      "execution_count": null,
      "id": "09c2af5b",
      "metadata": {
        "id": "09c2af5b"
      },
      "outputs": [],
      "source": [
        "DataFrame = df.drop(drop_index, axis = 0)"
      ]
    },
    {
      "cell_type": "code",
      "execution_count": null,
      "id": "218bb43f",
      "metadata": {
        "id": "218bb43f",
        "outputId": "22930966-79a6-4063-cff5-9211f7db268b"
      },
      "outputs": [
        {
          "data": {
            "text/plain": [
              "array([4, 6, 2, 1, 5], dtype=int64)"
            ]
          },
          "execution_count": 348,
          "metadata": {},
          "output_type": "execute_result"
        }
      ],
      "source": [
        "DataFrame[\"Class\"].unique()"
      ]
    },
    {
      "cell_type": "code",
      "execution_count": null,
      "id": "082b8ede",
      "metadata": {
        "id": "082b8ede"
      },
      "outputs": [],
      "source": [
        "# 1: Ethanol\n",
        "# 2: Ethylene\n",
        "# 4: Acetaldehyde\n",
        "# 5: Acetone\n",
        "# 6: Toluene"
      ]
    },
    {
      "cell_type": "code",
      "execution_count": null,
      "id": "13ecc5b1",
      "metadata": {
        "id": "13ecc5b1",
        "outputId": "6a7646d5-9d0b-4570-d037-37f5c3ba30aa"
      },
      "outputs": [
        {
          "data": {
            "text/plain": [
              "V1       0\n",
              "V2       0\n",
              "V3       0\n",
              "V4       0\n",
              "V5       0\n",
              "        ..\n",
              "V125     0\n",
              "V126     0\n",
              "V127     0\n",
              "V128     0\n",
              "Class    0\n",
              "Length: 129, dtype: int64"
            ]
          },
          "execution_count": 350,
          "metadata": {},
          "output_type": "execute_result"
        }
      ],
      "source": [
        "DataFrame.isnull().sum()   # no null elements present"
      ]
    },
    {
      "cell_type": "code",
      "execution_count": null,
      "id": "164fdee4",
      "metadata": {
        "id": "164fdee4"
      },
      "outputs": [],
      "source": [
        "DataFrame[\"Class\"] = DataFrame[\"Class\"].replace([1, 2, 4, 5, 6], [\"Ethanol\", \"Ethylene\", \"Acetaldehyde\", \"Acetone\", \"Toluene\"])"
      ]
    },
    {
      "cell_type": "code",
      "execution_count": null,
      "id": "8a05edc0",
      "metadata": {
        "id": "8a05edc0",
        "outputId": "55e9421d-63ed-4686-c90a-990a1bf069a0"
      },
      "outputs": [
        {
          "data": {
            "text/plain": [
              "array(['Acetaldehyde', 'Toluene', 'Ethylene', 'Ethanol', 'Acetone'],\n",
              "      dtype=object)"
            ]
          },
          "execution_count": 352,
          "metadata": {},
          "output_type": "execute_result"
        }
      ],
      "source": [
        "DataFrame[\"Class\"].unique()"
      ]
    },
    {
      "cell_type": "code",
      "execution_count": null,
      "id": "8bcf0b6f",
      "metadata": {
        "id": "8bcf0b6f"
      },
      "outputs": [],
      "source": [
        "DataFrame.to_csv(\"final_df.csv\")"
      ]
    },
    {
      "cell_type": "markdown",
      "id": "49ba245f",
      "metadata": {
        "id": "49ba245f"
      },
      "source": [
        "## Count of data points for different Gases"
      ]
    },
    {
      "cell_type": "code",
      "execution_count": null,
      "id": "887bc8a9",
      "metadata": {
        "id": "887bc8a9",
        "outputId": "979e9783-e294-44f1-b308-79a0dd5fe30f"
      },
      "outputs": [
        {
          "data": {
            "text/plain": [
              "Text(0, 0.5, 'Count')"
            ]
          },
          "execution_count": 354,
          "metadata": {},
          "output_type": "execute_result"
        },
        {
          "data": {
            "image/png": "[encoded data removed]",
            "text/plain": [
              "<Figure size 600x400 with 1 Axes>"
            ]
          },
          "metadata": {
            "needs_background": "light"
          },
          "output_type": "display_data"
        }
      ],
      "source": [
        "plt.figure(dpi=100)\n",
        "sns.countplot(data=DataFrame, x='Class')   # number of measurements for different gases\n",
        "plt.ylabel(\"Count\")"
      ]
    },
    {
      "cell_type": "code",
      "execution_count": null,
      "id": "4566d440",
      "metadata": {
        "id": "4566d440"
      },
      "outputs": [],
      "source": [
        "DataFrame[\"Class\"] = DataFrame[\"Class\"].replace([\"Ethanol\", \"Ethylene\", \"Acetaldehyde\", \"Acetone\", \"Toluene\"], [1, 2, 3, 4, 5])"
      ]
    },
    {
      "cell_type": "code",
      "execution_count": null,
      "id": "e728a55c",
      "metadata": {
        "id": "e728a55c",
        "outputId": "50b776b9-d078-4f39-9acf-e70b1b7b6246"
      },
      "outputs": [
        {
          "data": {
            "text/plain": [
              "array([3, 5, 2, 1, 4], dtype=int64)"
            ]
          },
          "execution_count": 356,
          "metadata": {},
          "output_type": "execute_result"
        }
      ],
      "source": [
        "DataFrame[\"Class\"].unique()"
      ]
    },
    {
      "cell_type": "code",
      "execution_count": null,
      "id": "ad72858c",
      "metadata": {
        "id": "ad72858c"
      },
      "outputs": [],
      "source": [
        "# 1: Ethanol\n",
        "# 2: Ethylene\n",
        "# 3: Acetaldehyde\n",
        "# 4: Acetone\n",
        "# 5: Toluene"
      ]
    },
    {
      "cell_type": "code",
      "execution_count": null,
      "id": "1c3fb5ec",
      "metadata": {
        "id": "1c3fb5ec",
        "outputId": "82fd9c1d-c0cf-4484-b149-174e0c3bb6e0"
      },
      "outputs": [
        {
          "data": {
            "text/html": [
              "<div>\n",
              "<style scoped>\n",
              "    .dataframe tbody tr th:only-of-type {\n",
              "        vertical-align: middle;\n",
              "    }\n",
              "\n",
              "    .dataframe tbody tr th {\n",
              "        vertical-align: top;\n",
              "    }\n",
              "\n",
              "    .dataframe thead th {\n",
              "        text-align: right;\n",
              "    }\n",
              "</style>\n",
              "<table border=\"1\" class=\"dataframe\">\n",
              "  <thead>\n",
              "    <tr style=\"text-align: right;\">\n",
              "      <th></th>\n",
              "      <th>V1</th>\n",
              "      <th>V2</th>\n",
              "      <th>V3</th>\n",
              "      <th>V4</th>\n",
              "      <th>V5</th>\n",
              "      <th>V6</th>\n",
              "      <th>V7</th>\n",
              "      <th>V8</th>\n",
              "      <th>V9</th>\n",
              "      <th>V10</th>\n",
              "      <th>...</th>\n",
              "      <th>V120</th>\n",
              "      <th>V121</th>\n",
              "      <th>V122</th>\n",
              "      <th>V123</th>\n",
              "      <th>V124</th>\n",
              "      <th>V125</th>\n",
              "      <th>V126</th>\n",
              "      <th>V127</th>\n",
              "      <th>V128</th>\n",
              "      <th>Class</th>\n",
              "    </tr>\n",
              "  </thead>\n",
              "  <tbody>\n",
              "    <tr>\n",
              "      <th>0</th>\n",
              "      <td>12285.6582</td>\n",
              "      <td>4.076635</td>\n",
              "      <td>4.842317</td>\n",
              "      <td>7.509393</td>\n",
              "      <td>10.822436</td>\n",
              "      <td>-1.312657</td>\n",
              "      <td>-1.853717</td>\n",
              "      <td>-6.924985</td>\n",
              "      <td>11800.9233</td>\n",
              "      <td>4.483500</td>\n",
              "      <td>...</td>\n",
              "      <td>-3.440387</td>\n",
              "      <td>1784.5324</td>\n",
              "      <td>1.907000</td>\n",
              "      <td>1.729200</td>\n",
              "      <td>4.881194</td>\n",
              "      <td>8.623828</td>\n",
              "      <td>-0.314110</td>\n",
              "      <td>-0.661556</td>\n",
              "      <td>-3.521663</td>\n",
              "      <td>3</td>\n",
              "    </tr>\n",
              "    <tr>\n",
              "      <th>2</th>\n",
              "      <td>63927.2217</td>\n",
              "      <td>14.956941</td>\n",
              "      <td>19.971376</td>\n",
              "      <td>29.188512</td>\n",
              "      <td>33.291320</td>\n",
              "      <td>-10.433776</td>\n",
              "      <td>-16.062245</td>\n",
              "      <td>-49.490143</td>\n",
              "      <td>57405.8483</td>\n",
              "      <td>15.613843</td>\n",
              "      <td>...</td>\n",
              "      <td>-25.150090</td>\n",
              "      <td>14585.7879</td>\n",
              "      <td>8.189021</td>\n",
              "      <td>6.099452</td>\n",
              "      <td>12.127991</td>\n",
              "      <td>15.709651</td>\n",
              "      <td>-3.887082</td>\n",
              "      <td>-6.731473</td>\n",
              "      <td>-19.326895</td>\n",
              "      <td>3</td>\n",
              "    </tr>\n",
              "    <tr>\n",
              "      <th>4</th>\n",
              "      <td>57524.7812</td>\n",
              "      <td>11.912566</td>\n",
              "      <td>14.631496</td>\n",
              "      <td>19.809240</td>\n",
              "      <td>23.715868</td>\n",
              "      <td>-9.084750</td>\n",
              "      <td>-11.770585</td>\n",
              "      <td>-39.234003</td>\n",
              "      <td>50051.0703</td>\n",
              "      <td>11.732548</td>\n",
              "      <td>...</td>\n",
              "      <td>-10.248794</td>\n",
              "      <td>10580.1006</td>\n",
              "      <td>5.752675</td>\n",
              "      <td>3.880740</td>\n",
              "      <td>8.545897</td>\n",
              "      <td>11.831716</td>\n",
              "      <td>-2.655521</td>\n",
              "      <td>-4.312744</td>\n",
              "      <td>-8.510591</td>\n",
              "      <td>3</td>\n",
              "    </tr>\n",
              "    <tr>\n",
              "      <th>6</th>\n",
              "      <td>30529.5386</td>\n",
              "      <td>5.966777</td>\n",
              "      <td>7.500612</td>\n",
              "      <td>10.488028</td>\n",
              "      <td>14.834027</td>\n",
              "      <td>-4.763318</td>\n",
              "      <td>-6.363263</td>\n",
              "      <td>-16.922709</td>\n",
              "      <td>26663.9966</td>\n",
              "      <td>6.096648</td>\n",
              "      <td>...</td>\n",
              "      <td>-5.535606</td>\n",
              "      <td>4883.5491</td>\n",
              "      <td>2.716239</td>\n",
              "      <td>2.324221</td>\n",
              "      <td>6.069348</td>\n",
              "      <td>10.196280</td>\n",
              "      <td>-1.189983</td>\n",
              "      <td>-1.970012</td>\n",
              "      <td>-4.981643</td>\n",
              "      <td>3</td>\n",
              "    </tr>\n",
              "    <tr>\n",
              "      <th>8</th>\n",
              "      <td>45595.9986</td>\n",
              "      <td>7.756975</td>\n",
              "      <td>11.394358</td>\n",
              "      <td>15.422559</td>\n",
              "      <td>19.436047</td>\n",
              "      <td>-7.277227</td>\n",
              "      <td>-9.474040</td>\n",
              "      <td>-29.713690</td>\n",
              "      <td>38629.1192</td>\n",
              "      <td>7.888008</td>\n",
              "      <td>...</td>\n",
              "      <td>-9.201080</td>\n",
              "      <td>7847.8254</td>\n",
              "      <td>3.231610</td>\n",
              "      <td>3.529234</td>\n",
              "      <td>8.635498</td>\n",
              "      <td>12.566779</td>\n",
              "      <td>-2.055179</td>\n",
              "      <td>-3.354946</td>\n",
              "      <td>-8.126358</td>\n",
              "      <td>3</td>\n",
              "    </tr>\n",
              "  </tbody>\n",
              "</table>\n",
              "<p>5 rows × 129 columns</p>\n",
              "</div>"
            ],
            "text/plain": [
              "           V1         V2         V3         V4         V5         V6  \\\n",
              "0  12285.6582   4.076635   4.842317   7.509393  10.822436  -1.312657   \n",
              "2  63927.2217  14.956941  19.971376  29.188512  33.291320 -10.433776   \n",
              "4  57524.7812  11.912566  14.631496  19.809240  23.715868  -9.084750   \n",
              "6  30529.5386   5.966777   7.500612  10.488028  14.834027  -4.763318   \n",
              "8  45595.9986   7.756975  11.394358  15.422559  19.436047  -7.277227   \n",
              "\n",
              "          V7         V8          V9        V10  ...       V120        V121  \\\n",
              "0  -1.853717  -6.924985  11800.9233   4.483500  ...  -3.440387   1784.5324   \n",
              "2 -16.062245 -49.490143  57405.8483  15.613843  ... -25.150090  14585.7879   \n",
              "4 -11.770585 -39.234003  50051.0703  11.732548  ... -10.248794  10580.1006   \n",
              "6  -6.363263 -16.922709  26663.9966   6.096648  ...  -5.535606   4883.5491   \n",
              "8  -9.474040 -29.713690  38629.1192   7.888008  ...  -9.201080   7847.8254   \n",
              "\n",
              "       V122      V123       V124       V125      V126      V127       V128  \\\n",
              "0  1.907000  1.729200   4.881194   8.623828 -0.314110 -0.661556  -3.521663   \n",
              "2  8.189021  6.099452  12.127991  15.709651 -3.887082 -6.731473 -19.326895   \n",
              "4  5.752675  3.880740   8.545897  11.831716 -2.655521 -4.312744  -8.510591   \n",
              "6  2.716239  2.324221   6.069348  10.196280 -1.189983 -1.970012  -4.981643   \n",
              "8  3.231610  3.529234   8.635498  12.566779 -2.055179 -3.354946  -8.126358   \n",
              "\n",
              "   Class  \n",
              "0      3  \n",
              "2      3  \n",
              "4      3  \n",
              "6      3  \n",
              "8      3  \n",
              "\n",
              "[5 rows x 129 columns]"
            ]
          },
          "execution_count": 357,
          "metadata": {},
          "output_type": "execute_result"
        }
      ],
      "source": [
        "DataFrame.head()"
      ]
    },
    {
      "cell_type": "markdown",
      "id": "5332224f",
      "metadata": {
        "id": "5332224f"
      },
      "source": [
        "# Classification Models"
      ]
    },
    {
      "cell_type": "markdown",
      "id": "690ed58c",
      "metadata": {
        "id": "690ed58c"
      },
      "source": [
        "## Support Vector Machines"
      ]
    },
    {
      "cell_type": "code",
      "execution_count": null,
      "id": "3325bf4f",
      "metadata": {
        "id": "3325bf4f"
      },
      "outputs": [],
      "source": [
        "X = DataFrame.drop('Class', axis=1)"
      ]
    },
    {
      "cell_type": "code",
      "execution_count": null,
      "id": "fd7b6c42",
      "metadata": {
        "id": "fd7b6c42"
      },
      "outputs": [],
      "source": [
        "y = DataFrame['Class']"
      ]
    },
    {
      "cell_type": "code",
      "execution_count": null,
      "id": "75825fb9",
      "metadata": {
        "id": "75825fb9"
      },
      "outputs": [],
      "source": []
    },
    {
      "cell_type": "code",
      "execution_count": null,
      "id": "29f61a5e",
      "metadata": {
        "id": "29f61a5e"
      },
      "outputs": [],
      "source": [
        "from sklearn.model_selection import train_test_split"
      ]
    },
    {
      "cell_type": "code",
      "execution_count": null,
      "id": "0e395293",
      "metadata": {
        "id": "0e395293"
      },
      "outputs": [],
      "source": [
        "X_train, X_test, y_train, y_test = train_test_split(X, y, test_size=0.10, random_state=101)"
      ]
    },
    {
      "cell_type": "code",
      "execution_count": null,
      "id": "8dce9de3",
      "metadata": {
        "id": "8dce9de3"
      },
      "outputs": [],
      "source": [
        "# perform scaling on training data"
      ]
    },
    {
      "cell_type": "code",
      "execution_count": null,
      "id": "df72a4ce",
      "metadata": {
        "id": "df72a4ce"
      },
      "outputs": [],
      "source": [
        "from sklearn.preprocessing import StandardScaler"
      ]
    },
    {
      "cell_type": "code",
      "execution_count": null,
      "id": "0893f280",
      "metadata": {
        "id": "0893f280"
      },
      "outputs": [],
      "source": [
        "scaler = StandardScaler()"
      ]
    },
    {
      "cell_type": "code",
      "execution_count": null,
      "id": "d42fa92b",
      "metadata": {
        "id": "d42fa92b"
      },
      "outputs": [],
      "source": [
        "scaled_X_train = scaler.fit_transform(X_train)\n",
        "scaled_X_test = scaler.transform(X_test)"
      ]
    },
    {
      "cell_type": "code",
      "execution_count": null,
      "id": "59c355c1",
      "metadata": {
        "id": "59c355c1"
      },
      "outputs": [],
      "source": [
        "from sklearn.svm import SVC"
      ]
    },
    {
      "cell_type": "code",
      "execution_count": null,
      "id": "86479a09",
      "metadata": {
        "id": "86479a09"
      },
      "outputs": [],
      "source": [
        "svc = SVC(class_weight='balanced')"
      ]
    },
    {
      "cell_type": "code",
      "execution_count": null,
      "id": "6893cdf9",
      "metadata": {
        "id": "6893cdf9"
      },
      "outputs": [],
      "source": [
        "from sklearn.model_selection import GridSearchCV"
      ]
    },
    {
      "cell_type": "code",
      "execution_count": null,
      "id": "b26e12fb",
      "metadata": {
        "id": "b26e12fb"
      },
      "outputs": [],
      "source": [
        "param_grid = {'C':[0.001,0.01,0.1,0.5,1],'gamma':['scale','auto']}\n",
        "grid = GridSearchCV(svc,param_grid)"
      ]
    },
    {
      "cell_type": "code",
      "execution_count": null,
      "id": "9fe5225c",
      "metadata": {
        "id": "9fe5225c",
        "outputId": "7033145b-080b-4184-c890-ad328e58def4"
      },
      "outputs": [
        {
          "data": {
            "text/plain": [
              "GridSearchCV(estimator=SVC(class_weight='balanced'),\n",
              "             param_grid={'C': [0.001, 0.01, 0.1, 0.5, 1],\n",
              "                         'gamma': ['scale', 'auto']})"
            ]
          },
          "execution_count": 135,
          "metadata": {},
          "output_type": "execute_result"
        }
      ],
      "source": [
        "grid.fit(scaled_X_train, y_train)"
      ]
    },
    {
      "cell_type": "code",
      "execution_count": null,
      "id": "67c686db",
      "metadata": {
        "id": "67c686db",
        "outputId": "e2e03cdc-d2cd-4c4f-a9b9-3675d9593069"
      },
      "outputs": [
        {
          "data": {
            "text/plain": [
              "{'C': 1, 'gamma': 'auto'}"
            ]
          },
          "execution_count": 136,
          "metadata": {},
          "output_type": "execute_result"
        }
      ],
      "source": [
        "grid.best_params_"
      ]
    },
    {
      "cell_type": "code",
      "execution_count": null,
      "id": "af24253d",
      "metadata": {
        "id": "af24253d"
      },
      "outputs": [],
      "source": [
        "from sklearn.metrics import confusion_matrix, classification_report, plot_confusion_matrix, ConfusionMatrixDisplay"
      ]
    },
    {
      "cell_type": "code",
      "execution_count": null,
      "id": "b383be36",
      "metadata": {
        "id": "b383be36"
      },
      "outputs": [],
      "source": [
        "grid_prediction = grid.predict(scaled_X_test)"
      ]
    },
    {
      "cell_type": "markdown",
      "id": "913ac20d",
      "metadata": {
        "id": "913ac20d"
      },
      "source": [
        "### Model Performance"
      ]
    },
    {
      "cell_type": "code",
      "execution_count": null,
      "id": "8d176119",
      "metadata": {
        "id": "8d176119",
        "outputId": "9fafc460-f9a3-48b8-aab2-35b39a2cada9"
      },
      "outputs": [
        {
          "name": "stdout",
          "output_type": "stream",
          "text": [
            "              precision    recall  f1-score   support\n",
            "\n",
            "           1       1.00      0.98      0.99       241\n",
            "           2       0.99      1.00      0.99       294\n",
            "           3       0.97      0.99      0.98       179\n",
            "           4       1.00      1.00      1.00       319\n",
            "           5       0.99      0.99      0.99       194\n",
            "\n",
            "    accuracy                           0.99      1227\n",
            "   macro avg       0.99      0.99      0.99      1227\n",
            "weighted avg       0.99      0.99      0.99      1227\n",
            "\n"
          ]
        }
      ],
      "source": [
        "print(classification_report(y_test,grid_prediction))"
      ]
    },
    {
      "cell_type": "code",
      "execution_count": null,
      "id": "3e0a64d4",
      "metadata": {
        "id": "3e0a64d4",
        "outputId": "9b0b150d-182b-4f73-945e-bae7d09f37fb"
      },
      "outputs": [
        {
          "data": {
            "text/plain": [
              "<sklearn.metrics._plot.confusion_matrix.ConfusionMatrixDisplay at 0x2c6905755b0>"
            ]
          },
          "execution_count": 477,
          "metadata": {},
          "output_type": "execute_result"
        },
        {
          "data": {
            "image/png": "[encoded data removed]",
            "text/plain": [
              "<Figure size 432x288 with 2 Axes>"
            ]
          },
          "metadata": {
            "needs_background": "light"
          },
          "output_type": "display_data"
        }
      ],
      "source": [
        "ConfusionMatrixDisplay.from_predictions(y_test, grid_prediction)"
      ]
    },
    {
      "cell_type": "code",
      "execution_count": null,
      "id": "abd9a1f6",
      "metadata": {
        "id": "abd9a1f6"
      },
      "outputs": [],
      "source": []
    },
    {
      "cell_type": "markdown",
      "id": "d91f4869",
      "metadata": {
        "id": "d91f4869"
      },
      "source": [
        "## Decision Tree"
      ]
    },
    {
      "cell_type": "code",
      "execution_count": null,
      "id": "8190537e",
      "metadata": {
        "id": "8190537e"
      },
      "outputs": [],
      "source": [
        "X = DataFrame.drop('Class', axis=1)"
      ]
    },
    {
      "cell_type": "code",
      "execution_count": null,
      "id": "af21f0c7",
      "metadata": {
        "id": "af21f0c7"
      },
      "outputs": [],
      "source": [
        "y = DataFrame['Class']"
      ]
    },
    {
      "cell_type": "code",
      "execution_count": null,
      "id": "2949590b",
      "metadata": {
        "id": "2949590b"
      },
      "outputs": [],
      "source": [
        "from sklearn.model_selection import train_test_split"
      ]
    },
    {
      "cell_type": "code",
      "execution_count": null,
      "id": "f36d11c6",
      "metadata": {
        "id": "f36d11c6"
      },
      "outputs": [],
      "source": [
        "X_train, X_test, y_train, y_test = train_test_split(X, y, test_size=0.1, random_state=101)"
      ]
    },
    {
      "cell_type": "code",
      "execution_count": null,
      "id": "1acab19b",
      "metadata": {
        "id": "1acab19b"
      },
      "outputs": [],
      "source": [
        "from sklearn.tree import DecisionTreeClassifier"
      ]
    },
    {
      "cell_type": "code",
      "execution_count": null,
      "id": "c51ad89b",
      "metadata": {
        "id": "c51ad89b"
      },
      "outputs": [],
      "source": [
        "dt = DecisionTreeClassifier(max_depth=6)"
      ]
    },
    {
      "cell_type": "code",
      "execution_count": null,
      "id": "2ee702e6",
      "metadata": {
        "id": "2ee702e6",
        "outputId": "29f8738b-268e-4ec4-dc4e-1f31689602ac"
      },
      "outputs": [
        {
          "data": {
            "text/plain": [
              "DecisionTreeClassifier(max_depth=6)"
            ]
          },
          "execution_count": 187,
          "metadata": {},
          "output_type": "execute_result"
        }
      ],
      "source": [
        "dt.fit(X_train, y_train)"
      ]
    },
    {
      "cell_type": "code",
      "execution_count": null,
      "id": "667f0064",
      "metadata": {
        "id": "667f0064"
      },
      "outputs": [],
      "source": [
        "dt_prediction = dt.predict(X_test)"
      ]
    },
    {
      "cell_type": "markdown",
      "id": "43f90d3d",
      "metadata": {
        "id": "43f90d3d"
      },
      "source": [
        "### Model Performance\n"
      ]
    },
    {
      "cell_type": "code",
      "execution_count": null,
      "id": "339f4f1b",
      "metadata": {
        "id": "339f4f1b",
        "outputId": "882a37e1-7a1e-46db-ab84-ca5a5cf9c5e4"
      },
      "outputs": [
        {
          "name": "stdout",
          "output_type": "stream",
          "text": [
            "              precision    recall  f1-score   support\n",
            "\n",
            "           1       0.86      0.86      0.86       241\n",
            "           2       0.99      0.94      0.96       294\n",
            "           3       0.60      0.54      0.57       179\n",
            "           4       0.98      0.91      0.94       319\n",
            "           5       0.68      0.89      0.77       194\n",
            "\n",
            "    accuracy                           0.85      1227\n",
            "   macro avg       0.82      0.83      0.82      1227\n",
            "weighted avg       0.86      0.85      0.85      1227\n",
            "\n"
          ]
        }
      ],
      "source": [
        "print(classification_report(y_test, dt_prediction))"
      ]
    },
    {
      "cell_type": "code",
      "execution_count": null,
      "id": "ff14e694",
      "metadata": {
        "scrolled": true,
        "id": "ff14e694",
        "outputId": "fd442518-036b-4732-8b29-c0cd10c6bb7d"
      },
      "outputs": [
        {
          "data": {
            "text/plain": [
              "<sklearn.metrics._plot.confusion_matrix.ConfusionMatrixDisplay at 0x2c68eaabc40>"
            ]
          },
          "execution_count": 471,
          "metadata": {},
          "output_type": "execute_result"
        },
        {
          "data": {
            "text/plain": [
              "<Figure size 600x400 with 0 Axes>"
            ]
          },
          "metadata": {},
          "output_type": "display_data"
        },
        {
          "data": {
            "image/png": "[encoded data removed]",
            "text/plain": [
              "<Figure size 432x288 with 2 Axes>"
            ]
          },
          "metadata": {
            "needs_background": "light"
          },
          "output_type": "display_data"
        }
      ],
      "source": [
        "ConfusionMatrixDisplay.from_predictions(y_test, dt_prediction)"
      ]
    },
    {
      "cell_type": "code",
      "execution_count": null,
      "id": "a161e345",
      "metadata": {
        "id": "a161e345"
      },
      "outputs": [],
      "source": []
    },
    {
      "cell_type": "markdown",
      "id": "d50582ed",
      "metadata": {
        "id": "d50582ed"
      },
      "source": [
        "## Random Forest"
      ]
    },
    {
      "cell_type": "code",
      "execution_count": null,
      "id": "2300e8c2",
      "metadata": {
        "id": "2300e8c2"
      },
      "outputs": [],
      "source": [
        "from sklearn.ensemble import RandomForestClassifier"
      ]
    },
    {
      "cell_type": "code",
      "execution_count": null,
      "id": "d4f7ad00",
      "metadata": {
        "id": "d4f7ad00"
      },
      "outputs": [],
      "source": [
        "rf = RandomForestClassifier(n_estimators=100)"
      ]
    },
    {
      "cell_type": "code",
      "execution_count": null,
      "id": "7dfc6095",
      "metadata": {
        "id": "7dfc6095",
        "outputId": "0db53071-cc56-4a45-d403-9188a9495e83"
      },
      "outputs": [
        {
          "data": {
            "text/plain": [
              "RandomForestClassifier()"
            ]
          },
          "execution_count": 197,
          "metadata": {},
          "output_type": "execute_result"
        }
      ],
      "source": [
        "rf.fit(X_train, y_train)"
      ]
    },
    {
      "cell_type": "code",
      "execution_count": null,
      "id": "5211974b",
      "metadata": {
        "id": "5211974b"
      },
      "outputs": [],
      "source": [
        "rf_prediction = rf.predict(X_test)"
      ]
    },
    {
      "cell_type": "markdown",
      "id": "049bf8bb",
      "metadata": {
        "id": "049bf8bb"
      },
      "source": [
        "### Model Performance"
      ]
    },
    {
      "cell_type": "code",
      "execution_count": null,
      "id": "7237ceca",
      "metadata": {
        "id": "7237ceca",
        "outputId": "674ae4ca-862a-47aa-ce23-2cbd06b0eaa6"
      },
      "outputs": [
        {
          "name": "stdout",
          "output_type": "stream",
          "text": [
            "              precision    recall  f1-score   support\n",
            "\n",
            "           1       0.99      1.00      0.99       241\n",
            "           2       1.00      0.99      0.99       294\n",
            "           3       0.99      1.00      1.00       179\n",
            "           4       1.00      1.00      1.00       319\n",
            "           5       1.00      0.99      1.00       194\n",
            "\n",
            "    accuracy                           1.00      1227\n",
            "   macro avg       1.00      1.00      1.00      1227\n",
            "weighted avg       1.00      1.00      1.00      1227\n",
            "\n"
          ]
        }
      ],
      "source": [
        "print(classification_report(y_test, rf_prediction))"
      ]
    },
    {
      "cell_type": "code",
      "execution_count": null,
      "id": "4a30eb9a",
      "metadata": {
        "id": "4a30eb9a",
        "outputId": "7b47818c-1f41-4c87-f865-c28d1d7c4a9c"
      },
      "outputs": [
        {
          "data": {
            "text/plain": [
              "<sklearn.metrics._plot.confusion_matrix.ConfusionMatrixDisplay at 0x2c689b23e50>"
            ]
          },
          "execution_count": 200,
          "metadata": {},
          "output_type": "execute_result"
        },
        {
          "data": {
            "image/png": "[encoded data removed]",
            "text/plain": [
              "<Figure size 432x288 with 2 Axes>"
            ]
          },
          "metadata": {
            "needs_background": "light"
          },
          "output_type": "display_data"
        }
      ],
      "source": [
        "ConfusionMatrixDisplay.from_predictions(y_test, rf_prediction)"
      ]
    },
    {
      "cell_type": "code",
      "execution_count": null,
      "id": "c905c790",
      "metadata": {
        "id": "c905c790"
      },
      "outputs": [],
      "source": []
    },
    {
      "cell_type": "markdown",
      "id": "d987ddfa",
      "metadata": {
        "id": "d987ddfa"
      },
      "source": [
        "# Boosted Trees"
      ]
    },
    {
      "cell_type": "markdown",
      "id": "1c204a78",
      "metadata": {
        "id": "1c204a78"
      },
      "source": [
        "## Ada Boost Classifier"
      ]
    },
    {
      "cell_type": "code",
      "execution_count": null,
      "id": "baf7227f",
      "metadata": {
        "id": "baf7227f"
      },
      "outputs": [],
      "source": [
        "from sklearn.ensemble import AdaBoostClassifier"
      ]
    },
    {
      "cell_type": "code",
      "execution_count": null,
      "id": "038123ad",
      "metadata": {
        "id": "038123ad"
      },
      "outputs": [],
      "source": [
        "ada_model = AdaBoostClassifier()"
      ]
    },
    {
      "cell_type": "code",
      "execution_count": null,
      "id": "cdd32478",
      "metadata": {
        "id": "cdd32478",
        "outputId": "b86e1d99-2f4c-4196-9987-6e8e805a7f54"
      },
      "outputs": [
        {
          "data": {
            "text/plain": [
              "AdaBoostClassifier()"
            ]
          },
          "execution_count": 205,
          "metadata": {},
          "output_type": "execute_result"
        }
      ],
      "source": [
        "ada_model.fit(X_train, y_train)"
      ]
    },
    {
      "cell_type": "code",
      "execution_count": null,
      "id": "1e107c55",
      "metadata": {
        "id": "1e107c55"
      },
      "outputs": [],
      "source": [
        "ada_prediction = ada_model.predict(X_test)"
      ]
    },
    {
      "cell_type": "markdown",
      "id": "fffb2037",
      "metadata": {
        "id": "fffb2037"
      },
      "source": [
        "### Model Performance"
      ]
    },
    {
      "cell_type": "code",
      "execution_count": null,
      "id": "2a022f73",
      "metadata": {
        "id": "2a022f73",
        "outputId": "612b7232-30b3-46b6-d893-5228905043bd"
      },
      "outputs": [
        {
          "name": "stdout",
          "output_type": "stream",
          "text": [
            "              precision    recall  f1-score   support\n",
            "\n",
            "           1       0.65      0.79      0.72       241\n",
            "           2       1.00      0.81      0.89       294\n",
            "           3       0.58      0.64      0.61       179\n",
            "           4       0.90      0.79      0.84       319\n",
            "           5       0.70      0.79      0.74       194\n",
            "\n",
            "    accuracy                           0.77      1227\n",
            "   macro avg       0.77      0.76      0.76      1227\n",
            "weighted avg       0.80      0.77      0.78      1227\n",
            "\n"
          ]
        }
      ],
      "source": [
        "print(classification_report(y_test, ada_prediction))"
      ]
    },
    {
      "cell_type": "code",
      "execution_count": null,
      "id": "daabb32d",
      "metadata": {
        "id": "daabb32d",
        "outputId": "9d0aa2b0-f332-497b-948d-a76a83ce2c19"
      },
      "outputs": [
        {
          "data": {
            "text/plain": [
              "<sklearn.metrics._plot.confusion_matrix.ConfusionMatrixDisplay at 0x2c689b85880>"
            ]
          },
          "execution_count": 209,
          "metadata": {},
          "output_type": "execute_result"
        },
        {
          "data": {
            "image/png": "[encoded data removed]",
            "text/plain": [
              "<Figure size 432x288 with 2 Axes>"
            ]
          },
          "metadata": {
            "needs_background": "light"
          },
          "output_type": "display_data"
        }
      ],
      "source": [
        "ConfusionMatrixDisplay.from_predictions(y_test, ada_prediction)"
      ]
    },
    {
      "cell_type": "code",
      "execution_count": null,
      "id": "1be1ab16",
      "metadata": {
        "id": "1be1ab16"
      },
      "outputs": [],
      "source": []
    },
    {
      "cell_type": "markdown",
      "id": "22b30c39",
      "metadata": {
        "id": "22b30c39"
      },
      "source": [
        "## Gradient Boosting Classifier"
      ]
    },
    {
      "cell_type": "code",
      "execution_count": null,
      "id": "7ba9f898",
      "metadata": {
        "id": "7ba9f898"
      },
      "outputs": [],
      "source": [
        "from sklearn.ensemble import GradientBoostingClassifier"
      ]
    },
    {
      "cell_type": "code",
      "execution_count": null,
      "id": "fd3369e1",
      "metadata": {
        "id": "fd3369e1"
      },
      "outputs": [],
      "source": [
        "grad_model = GradientBoostingClassifier()"
      ]
    },
    {
      "cell_type": "code",
      "execution_count": null,
      "id": "476931fa",
      "metadata": {
        "id": "476931fa",
        "outputId": "2950bc19-4845-4e75-c7a1-29f5d514b47d"
      },
      "outputs": [
        {
          "data": {
            "text/plain": [
              "GradientBoostingClassifier()"
            ]
          },
          "execution_count": 363,
          "metadata": {},
          "output_type": "execute_result"
        }
      ],
      "source": [
        "grad_model.fit(X_train, y_train)"
      ]
    },
    {
      "cell_type": "code",
      "execution_count": null,
      "id": "9581e97f",
      "metadata": {
        "id": "9581e97f"
      },
      "outputs": [],
      "source": [
        "grad_prediction = grad_model.predict(X_test)"
      ]
    },
    {
      "cell_type": "markdown",
      "id": "687a0e2b",
      "metadata": {
        "id": "687a0e2b"
      },
      "source": [
        "### Model Performance"
      ]
    },
    {
      "cell_type": "code",
      "execution_count": null,
      "id": "4fd718af",
      "metadata": {
        "id": "4fd718af",
        "outputId": "dae29547-7035-4bd6-bdf4-8a6fc7b868eb"
      },
      "outputs": [
        {
          "name": "stdout",
          "output_type": "stream",
          "text": [
            "              precision    recall  f1-score   support\n",
            "\n",
            "           1       1.00      1.00      1.00       241\n",
            "           2       1.00      1.00      1.00       294\n",
            "           3       0.99      1.00      1.00       179\n",
            "           4       1.00      1.00      1.00       319\n",
            "           5       1.00      0.99      1.00       194\n",
            "\n",
            "    accuracy                           1.00      1227\n",
            "   macro avg       1.00      1.00      1.00      1227\n",
            "weighted avg       1.00      1.00      1.00      1227\n",
            "\n"
          ]
        }
      ],
      "source": [
        "print(classification_report(y_test, grad_prediction))"
      ]
    },
    {
      "cell_type": "code",
      "execution_count": null,
      "id": "0238ae78",
      "metadata": {
        "scrolled": true,
        "id": "0238ae78",
        "outputId": "c2490084-d870-4395-d644-6965f9fa6f2f"
      },
      "outputs": [
        {
          "data": {
            "text/plain": [
              "<sklearn.metrics._plot.confusion_matrix.ConfusionMatrixDisplay at 0x2c68ea14b50>"
            ]
          },
          "execution_count": 367,
          "metadata": {},
          "output_type": "execute_result"
        },
        {
          "data": {
            "image/png": "[encoded data removed]",
            "text/plain": [
              "<Figure size 432x288 with 2 Axes>"
            ]
          },
          "metadata": {
            "needs_background": "light"
          },
          "output_type": "display_data"
        }
      ],
      "source": [
        "ConfusionMatrixDisplay.from_predictions(y_test, grad_prediction)"
      ]
    },
    {
      "cell_type": "code",
      "execution_count": null,
      "id": "876adbbb",
      "metadata": {
        "id": "876adbbb"
      },
      "outputs": [],
      "source": []
    },
    {
      "cell_type": "markdown",
      "id": "71be363e",
      "metadata": {
        "id": "71be363e"
      },
      "source": [
        "# Creating a Final Model"
      ]
    },
    {
      "cell_type": "code",
      "execution_count": null,
      "id": "961ca093",
      "metadata": {
        "id": "961ca093"
      },
      "outputs": [],
      "source": [
        "# Best Model - Gradient Boosting Classifier"
      ]
    },
    {
      "cell_type": "code",
      "execution_count": null,
      "id": "4d6ca8aa",
      "metadata": {
        "id": "4d6ca8aa"
      },
      "outputs": [],
      "source": [
        "# Full Training"
      ]
    },
    {
      "cell_type": "code",
      "execution_count": null,
      "id": "bac36e96",
      "metadata": {
        "id": "bac36e96"
      },
      "outputs": [],
      "source": [
        "final_model = GradientBoostingClassifier()"
      ]
    },
    {
      "cell_type": "code",
      "execution_count": null,
      "id": "91004b49",
      "metadata": {
        "id": "91004b49",
        "outputId": "879f6fa9-72d3-479c-d293-6705a3303228"
      },
      "outputs": [
        {
          "data": {
            "text/plain": [
              "GradientBoostingClassifier()"
            ]
          },
          "execution_count": 371,
          "metadata": {},
          "output_type": "execute_result"
        }
      ],
      "source": [
        "final_model.fit(X,y)"
      ]
    },
    {
      "cell_type": "markdown",
      "id": "15aa921a",
      "metadata": {
        "id": "15aa921a"
      },
      "source": [
        "# Saving the model as a pickle file"
      ]
    },
    {
      "cell_type": "code",
      "execution_count": null,
      "id": "f3abc489",
      "metadata": {
        "id": "f3abc489"
      },
      "outputs": [],
      "source": [
        "# JOBLIB"
      ]
    },
    {
      "cell_type": "code",
      "execution_count": null,
      "id": "1646f9a7",
      "metadata": {
        "id": "1646f9a7"
      },
      "outputs": [],
      "source": [
        "import joblib"
      ]
    },
    {
      "cell_type": "code",
      "execution_count": null,
      "id": "b0484494",
      "metadata": {
        "id": "b0484494",
        "outputId": "00bc9ae3-863d-401d-8a13-08a77a563197"
      },
      "outputs": [
        {
          "data": {
            "text/plain": [
              "['final_model.pkl']"
            ]
          },
          "execution_count": 374,
          "metadata": {},
          "output_type": "execute_result"
        }
      ],
      "source": [
        "joblib.dump(final_model, 'final_model.pkl')"
      ]
    },
    {
      "cell_type": "code",
      "execution_count": null,
      "id": "2564b919",
      "metadata": {
        "id": "2564b919",
        "outputId": "a822d3ad-114a-49da-8dae-9f41de36869e"
      },
      "outputs": [
        {
          "data": {
            "text/plain": [
              "['column_names.pkl']"
            ]
          },
          "execution_count": 425,
          "metadata": {},
          "output_type": "execute_result"
        }
      ],
      "source": [
        "joblib.dump(list(X.columns), 'column_names.pkl')"
      ]
    },
    {
      "cell_type": "markdown",
      "id": "cd3cc330",
      "metadata": {
        "id": "cd3cc330"
      },
      "source": [
        "# Loading the Model"
      ]
    },
    {
      "cell_type": "code",
      "execution_count": null,
      "id": "c4f8e5e7",
      "metadata": {
        "id": "c4f8e5e7"
      },
      "outputs": [],
      "source": [
        "# load model"
      ]
    },
    {
      "cell_type": "code",
      "execution_count": null,
      "id": "c87a28c5",
      "metadata": {
        "id": "c87a28c5"
      },
      "outputs": [],
      "source": [
        "loaded_model = joblib.load('final_model.pkl')"
      ]
    },
    {
      "cell_type": "code",
      "execution_count": null,
      "id": "86ecabcd",
      "metadata": {
        "id": "86ecabcd"
      },
      "outputs": [],
      "source": [
        "col_names = joblib.load('column_names.pkl')"
      ]
    },
    {
      "cell_type": "code",
      "execution_count": null,
      "id": "fb81e5f4",
      "metadata": {
        "id": "fb81e5f4"
      },
      "outputs": [],
      "source": []
    },
    {
      "cell_type": "markdown",
      "id": "07fb189b",
      "metadata": {
        "id": "07fb189b"
      },
      "source": [
        "# Results"
      ]
    },
    {
      "cell_type": "code",
      "execution_count": null,
      "id": "46e461a1",
      "metadata": {
        "id": "46e461a1",
        "outputId": "8feb5264-5daa-427c-ddb9-66ac1ed1bf1e"
      },
      "outputs": [
        {
          "data": {
            "text/html": [
              "<div>\n",
              "<style scoped>\n",
              "    .dataframe tbody tr th:only-of-type {\n",
              "        vertical-align: middle;\n",
              "    }\n",
              "\n",
              "    .dataframe tbody tr th {\n",
              "        vertical-align: top;\n",
              "    }\n",
              "\n",
              "    .dataframe thead th {\n",
              "        text-align: right;\n",
              "    }\n",
              "</style>\n",
              "<table border=\"1\" class=\"dataframe\">\n",
              "  <thead>\n",
              "    <tr style=\"text-align: right;\">\n",
              "      <th></th>\n",
              "      <th>V1</th>\n",
              "      <th>V2</th>\n",
              "      <th>V3</th>\n",
              "      <th>V4</th>\n",
              "      <th>V5</th>\n",
              "      <th>V6</th>\n",
              "      <th>V7</th>\n",
              "      <th>V8</th>\n",
              "      <th>V9</th>\n",
              "      <th>V10</th>\n",
              "      <th>...</th>\n",
              "      <th>V120</th>\n",
              "      <th>V121</th>\n",
              "      <th>V122</th>\n",
              "      <th>V123</th>\n",
              "      <th>V124</th>\n",
              "      <th>V125</th>\n",
              "      <th>V126</th>\n",
              "      <th>V127</th>\n",
              "      <th>V128</th>\n",
              "      <th>Class</th>\n",
              "    </tr>\n",
              "  </thead>\n",
              "  <tbody>\n",
              "    <tr>\n",
              "      <th>0</th>\n",
              "      <td>12285.6582</td>\n",
              "      <td>4.076635</td>\n",
              "      <td>4.842317</td>\n",
              "      <td>7.509393</td>\n",
              "      <td>10.822436</td>\n",
              "      <td>-1.312657</td>\n",
              "      <td>-1.853717</td>\n",
              "      <td>-6.924985</td>\n",
              "      <td>11800.9233</td>\n",
              "      <td>4.483500</td>\n",
              "      <td>...</td>\n",
              "      <td>-3.440387</td>\n",
              "      <td>1784.5324</td>\n",
              "      <td>1.907000</td>\n",
              "      <td>1.729200</td>\n",
              "      <td>4.881194</td>\n",
              "      <td>8.623828</td>\n",
              "      <td>-0.314110</td>\n",
              "      <td>-0.661556</td>\n",
              "      <td>-3.521663</td>\n",
              "      <td>3</td>\n",
              "    </tr>\n",
              "    <tr>\n",
              "      <th>2</th>\n",
              "      <td>63927.2217</td>\n",
              "      <td>14.956941</td>\n",
              "      <td>19.971376</td>\n",
              "      <td>29.188512</td>\n",
              "      <td>33.291320</td>\n",
              "      <td>-10.433776</td>\n",
              "      <td>-16.062245</td>\n",
              "      <td>-49.490143</td>\n",
              "      <td>57405.8483</td>\n",
              "      <td>15.613843</td>\n",
              "      <td>...</td>\n",
              "      <td>-25.150090</td>\n",
              "      <td>14585.7879</td>\n",
              "      <td>8.189021</td>\n",
              "      <td>6.099452</td>\n",
              "      <td>12.127991</td>\n",
              "      <td>15.709651</td>\n",
              "      <td>-3.887082</td>\n",
              "      <td>-6.731473</td>\n",
              "      <td>-19.326895</td>\n",
              "      <td>3</td>\n",
              "    </tr>\n",
              "    <tr>\n",
              "      <th>4</th>\n",
              "      <td>57524.7812</td>\n",
              "      <td>11.912566</td>\n",
              "      <td>14.631496</td>\n",
              "      <td>19.809240</td>\n",
              "      <td>23.715868</td>\n",
              "      <td>-9.084750</td>\n",
              "      <td>-11.770585</td>\n",
              "      <td>-39.234003</td>\n",
              "      <td>50051.0703</td>\n",
              "      <td>11.732548</td>\n",
              "      <td>...</td>\n",
              "      <td>-10.248794</td>\n",
              "      <td>10580.1006</td>\n",
              "      <td>5.752675</td>\n",
              "      <td>3.880740</td>\n",
              "      <td>8.545897</td>\n",
              "      <td>11.831716</td>\n",
              "      <td>-2.655521</td>\n",
              "      <td>-4.312744</td>\n",
              "      <td>-8.510591</td>\n",
              "      <td>3</td>\n",
              "    </tr>\n",
              "    <tr>\n",
              "      <th>6</th>\n",
              "      <td>30529.5386</td>\n",
              "      <td>5.966777</td>\n",
              "      <td>7.500612</td>\n",
              "      <td>10.488028</td>\n",
              "      <td>14.834027</td>\n",
              "      <td>-4.763318</td>\n",
              "      <td>-6.363263</td>\n",
              "      <td>-16.922709</td>\n",
              "      <td>26663.9966</td>\n",
              "      <td>6.096648</td>\n",
              "      <td>...</td>\n",
              "      <td>-5.535606</td>\n",
              "      <td>4883.5491</td>\n",
              "      <td>2.716239</td>\n",
              "      <td>2.324221</td>\n",
              "      <td>6.069348</td>\n",
              "      <td>10.196280</td>\n",
              "      <td>-1.189983</td>\n",
              "      <td>-1.970012</td>\n",
              "      <td>-4.981643</td>\n",
              "      <td>3</td>\n",
              "    </tr>\n",
              "    <tr>\n",
              "      <th>8</th>\n",
              "      <td>45595.9986</td>\n",
              "      <td>7.756975</td>\n",
              "      <td>11.394358</td>\n",
              "      <td>15.422559</td>\n",
              "      <td>19.436047</td>\n",
              "      <td>-7.277227</td>\n",
              "      <td>-9.474040</td>\n",
              "      <td>-29.713690</td>\n",
              "      <td>38629.1192</td>\n",
              "      <td>7.888008</td>\n",
              "      <td>...</td>\n",
              "      <td>-9.201080</td>\n",
              "      <td>7847.8254</td>\n",
              "      <td>3.231610</td>\n",
              "      <td>3.529234</td>\n",
              "      <td>8.635498</td>\n",
              "      <td>12.566779</td>\n",
              "      <td>-2.055179</td>\n",
              "      <td>-3.354946</td>\n",
              "      <td>-8.126358</td>\n",
              "      <td>3</td>\n",
              "    </tr>\n",
              "  </tbody>\n",
              "</table>\n",
              "<p>5 rows × 129 columns</p>\n",
              "</div>"
            ],
            "text/plain": [
              "           V1         V2         V3         V4         V5         V6  \\\n",
              "0  12285.6582   4.076635   4.842317   7.509393  10.822436  -1.312657   \n",
              "2  63927.2217  14.956941  19.971376  29.188512  33.291320 -10.433776   \n",
              "4  57524.7812  11.912566  14.631496  19.809240  23.715868  -9.084750   \n",
              "6  30529.5386   5.966777   7.500612  10.488028  14.834027  -4.763318   \n",
              "8  45595.9986   7.756975  11.394358  15.422559  19.436047  -7.277227   \n",
              "\n",
              "          V7         V8          V9        V10  ...       V120        V121  \\\n",
              "0  -1.853717  -6.924985  11800.9233   4.483500  ...  -3.440387   1784.5324   \n",
              "2 -16.062245 -49.490143  57405.8483  15.613843  ... -25.150090  14585.7879   \n",
              "4 -11.770585 -39.234003  50051.0703  11.732548  ... -10.248794  10580.1006   \n",
              "6  -6.363263 -16.922709  26663.9966   6.096648  ...  -5.535606   4883.5491   \n",
              "8  -9.474040 -29.713690  38629.1192   7.888008  ...  -9.201080   7847.8254   \n",
              "\n",
              "       V122      V123       V124       V125      V126      V127       V128  \\\n",
              "0  1.907000  1.729200   4.881194   8.623828 -0.314110 -0.661556  -3.521663   \n",
              "2  8.189021  6.099452  12.127991  15.709651 -3.887082 -6.731473 -19.326895   \n",
              "4  5.752675  3.880740   8.545897  11.831716 -2.655521 -4.312744  -8.510591   \n",
              "6  2.716239  2.324221   6.069348  10.196280 -1.189983 -1.970012  -4.981643   \n",
              "8  3.231610  3.529234   8.635498  12.566779 -2.055179 -3.354946  -8.126358   \n",
              "\n",
              "   Class  \n",
              "0      3  \n",
              "2      3  \n",
              "4      3  \n",
              "6      3  \n",
              "8      3  \n",
              "\n",
              "[5 rows x 129 columns]"
            ]
          },
          "execution_count": 417,
          "metadata": {},
          "output_type": "execute_result"
        }
      ],
      "source": [
        "DataFrame.head()"
      ]
    },
    {
      "cell_type": "code",
      "execution_count": null,
      "id": "bb18de99",
      "metadata": {
        "id": "bb18de99"
      },
      "outputs": [],
      "source": [
        "# 1: Ethanol\n",
        "# 2: Ethylene\n",
        "# 3: Acetaldehyde\n",
        "# 4: Acetone\n",
        "# 5: Toluene"
      ]
    },
    {
      "cell_type": "code",
      "execution_count": null,
      "id": "35bf8dbc",
      "metadata": {
        "id": "35bf8dbc"
      },
      "outputs": [],
      "source": [
        "test_df = DataFrame"
      ]
    },
    {
      "cell_type": "code",
      "execution_count": null,
      "id": "b7c0b42a",
      "metadata": {
        "id": "b7c0b42a"
      },
      "outputs": [],
      "source": [
        "test_df[\"Class\"] = test_df[\"Class\"].replace([1, 2, 3, 4, 5], [\"Ethanol\", \"Ethylene\", \"Acetaldehyde\", \"Acetone\", \"Toluene\"])"
      ]
    },
    {
      "cell_type": "code",
      "execution_count": null,
      "id": "3ae9d593",
      "metadata": {
        "scrolled": true,
        "id": "3ae9d593",
        "outputId": "d5f757ba-37f5-4750-b560-0abc9b47c6f0"
      },
      "outputs": [
        {
          "data": {
            "text/plain": [
              "array(['Acetaldehyde', 'Toluene', 'Ethylene', 'Ethanol', 'Acetone'],\n",
              "      dtype=object)"
            ]
          },
          "execution_count": 452,
          "metadata": {},
          "output_type": "execute_result"
        }
      ],
      "source": [
        "test_df[\"Class\"].unique()"
      ]
    },
    {
      "cell_type": "markdown",
      "id": "2d1626c5",
      "metadata": {
        "id": "2d1626c5"
      },
      "source": [
        "# Test for various Gases' data"
      ]
    },
    {
      "cell_type": "code",
      "execution_count": null,
      "id": "770658e4",
      "metadata": {
        "id": "770658e4"
      },
      "outputs": [],
      "source": [
        "def test_gas(loaded_model, data):\n",
        "\n",
        "    result = loaded_model.predict(data)\n",
        "    if result[0] == 1:\n",
        "        return \"Ethanol\"\n",
        "    elif result[0] == 2:\n",
        "        return \"Ethylene\"\n",
        "    elif result[0] == 3:\n",
        "        return \"Acetaldehyde\"\n",
        "    elif result[0] == 4:\n",
        "        return \"Acetone\"\n",
        "    elif result[0] == 5:\n",
        "        return \"Toluene\"\n",
        "    else:\n",
        "        return \"Undesired Result\""
      ]
    },
    {
      "cell_type": "markdown",
      "id": "6584e0eb",
      "metadata": {
        "id": "6584e0eb"
      },
      "source": [
        "#### For Ethanol"
      ]
    },
    {
      "cell_type": "code",
      "execution_count": null,
      "id": "d6a1ed69",
      "metadata": {
        "id": "d6a1ed69"
      },
      "outputs": [],
      "source": [
        "ethanol_data = test_df[test_df[\"Class\"] == \"Ethanol\"].head(1).drop('Class', axis=1)"
      ]
    },
    {
      "cell_type": "code",
      "execution_count": null,
      "id": "d7a5bc20",
      "metadata": {
        "id": "d7a5bc20"
      },
      "outputs": [],
      "source": [
        "result = test_gas(loaded_model, ethanol_data)"
      ]
    },
    {
      "cell_type": "code",
      "execution_count": null,
      "id": "de0e8e94",
      "metadata": {
        "id": "de0e8e94",
        "outputId": "ab5ea1d6-7e47-4f0e-ef4c-676db003cfb3"
      },
      "outputs": [
        {
          "name": "stdout",
          "output_type": "stream",
          "text": [
            "Result:  Ethanol\n"
          ]
        }
      ],
      "source": [
        "print(\"Result: \", result)"
      ]
    },
    {
      "cell_type": "markdown",
      "id": "edffc17a",
      "metadata": {
        "id": "edffc17a"
      },
      "source": [
        "#### For Ethylene"
      ]
    },
    {
      "cell_type": "code",
      "execution_count": null,
      "id": "bc90735f",
      "metadata": {
        "id": "bc90735f"
      },
      "outputs": [],
      "source": [
        "ethylene_data = test_df[test_df[\"Class\"] == \"Ethylene\"].head(1).drop('Class', axis=1)"
      ]
    },
    {
      "cell_type": "code",
      "execution_count": null,
      "id": "a415e8ed",
      "metadata": {
        "id": "a415e8ed"
      },
      "outputs": [],
      "source": [
        "result = test_gas(loaded_model, ethylene_data)"
      ]
    },
    {
      "cell_type": "code",
      "execution_count": null,
      "id": "151c56f8",
      "metadata": {
        "id": "151c56f8",
        "outputId": "cd078128-361d-433d-f42e-6a1e728c3a7a"
      },
      "outputs": [
        {
          "name": "stdout",
          "output_type": "stream",
          "text": [
            "Result:  Ethylene\n"
          ]
        }
      ],
      "source": [
        "print(\"Result: \", result)"
      ]
    },
    {
      "cell_type": "markdown",
      "id": "f6d08100",
      "metadata": {
        "id": "f6d08100"
      },
      "source": [
        "#### For Acetaldehyde"
      ]
    },
    {
      "cell_type": "code",
      "execution_count": null,
      "id": "f523e650",
      "metadata": {
        "id": "f523e650"
      },
      "outputs": [],
      "source": [
        "acetaldehyde_data = test_df[test_df[\"Class\"] == \"Acetaldehyde\"].head(1).drop('Class', axis=1)"
      ]
    },
    {
      "cell_type": "code",
      "execution_count": null,
      "id": "e34a5f59",
      "metadata": {
        "id": "e34a5f59"
      },
      "outputs": [],
      "source": [
        "result = test_gas(loaded_model, acetaldehyde_data)"
      ]
    },
    {
      "cell_type": "code",
      "execution_count": null,
      "id": "f04eb3db",
      "metadata": {
        "id": "f04eb3db",
        "outputId": "b31af793-e8a1-463c-f4b2-eb5b2f8f93a6"
      },
      "outputs": [
        {
          "name": "stdout",
          "output_type": "stream",
          "text": [
            "Result:  Acetaldehyde\n"
          ]
        }
      ],
      "source": [
        "print(\"Result: \", result)"
      ]
    },
    {
      "cell_type": "markdown",
      "id": "11074618",
      "metadata": {
        "id": "11074618"
      },
      "source": [
        "#### For Acetone"
      ]
    },
    {
      "cell_type": "code",
      "execution_count": null,
      "id": "0a4da85f",
      "metadata": {
        "id": "0a4da85f"
      },
      "outputs": [],
      "source": [
        "acetone_data = test_df[test_df[\"Class\"] == \"Acetone\"].head(1).drop('Class', axis=1)"
      ]
    },
    {
      "cell_type": "code",
      "execution_count": null,
      "id": "8f8e845b",
      "metadata": {
        "id": "8f8e845b"
      },
      "outputs": [],
      "source": [
        "result = test_gas(loaded_model, acetone_data)"
      ]
    },
    {
      "cell_type": "code",
      "execution_count": null,
      "id": "f899194c",
      "metadata": {
        "id": "f899194c",
        "outputId": "ada278b9-21c1-4dc8-8602-e79a73b85a43"
      },
      "outputs": [
        {
          "name": "stdout",
          "output_type": "stream",
          "text": [
            "Result:  Acetone\n"
          ]
        }
      ],
      "source": [
        "print(\"Result: \", result)"
      ]
    },
    {
      "cell_type": "markdown",
      "id": "924fd3a5",
      "metadata": {
        "id": "924fd3a5"
      },
      "source": [
        "#### For Toluene"
      ]
    },
    {
      "cell_type": "code",
      "execution_count": null,
      "id": "36af2b51",
      "metadata": {
        "id": "36af2b51"
      },
      "outputs": [],
      "source": [
        "toluene_data = test_df[test_df[\"Class\"] == \"Toluene\"].head(1).drop('Class', axis=1)"
      ]
    },
    {
      "cell_type": "code",
      "execution_count": null,
      "id": "c3426c8e",
      "metadata": {
        "id": "c3426c8e"
      },
      "outputs": [],
      "source": [
        "result = test_gas(loaded_model, toluene_data)"
      ]
    },
    {
      "cell_type": "code",
      "execution_count": null,
      "id": "fa9f9179",
      "metadata": {
        "id": "fa9f9179",
        "outputId": "772ec028-987e-4272-8268-128d693ce644"
      },
      "outputs": [
        {
          "name": "stdout",
          "output_type": "stream",
          "text": [
            "Result:  Toluene\n"
          ]
        }
      ],
      "source": [
        "print(\"Result: \", result)"
      ]
    }
  ],
  "metadata": {
    "kernelspec": {
      "display_name": "Python 3 (ipykernel)",
      "language": "python",
      "name": "python3"
    },
    "language_info": {
      "codemirror_mode": {
        "name": "ipython",
        "version": 3
      },
      "file_extension": ".py",
      "mimetype": "text/x-python",
      "name": "python",
      "nbconvert_exporter": "python",
      "pygments_lexer": "ipython3",
      "version": "3.9.12"
    },
    "colab": {
      "provenance": []
    }
  },
  "nbformat": 4,
  "nbformat_minor": 5
}